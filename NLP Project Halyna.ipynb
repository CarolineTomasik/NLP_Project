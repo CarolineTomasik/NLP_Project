{
 "cells": [
  {
   "cell_type": "code",
   "execution_count": 1,
   "metadata": {},
   "outputs": [],
   "source": [
    "import selenium"
   ]
  },
  {
   "cell_type": "code",
   "execution_count": 2,
   "metadata": {},
   "outputs": [
    {
     "name": "stdout",
     "output_type": "stream",
     "text": [
      "Collecting newspaper3k\n",
      "  Downloading newspaper3k-0.2.8-py3-none-any.whl (211 kB)\n",
      "\u001b[K     |████████████████████████████████| 211 kB 566 kB/s eta 0:00:01\n",
      "\u001b[?25hCollecting cssselect>=0.9.2\n",
      "  Downloading cssselect-1.1.0-py2.py3-none-any.whl (16 kB)\n",
      "Requirement already satisfied: beautifulsoup4>=4.4.1 in /opt/anaconda3/lib/python3.7/site-packages (from newspaper3k) (4.8.2)\n",
      "Requirement already satisfied: nltk>=3.2.1 in /opt/anaconda3/lib/python3.7/site-packages (from newspaper3k) (3.4.5)\n",
      "Collecting tinysegmenter==0.3\n",
      "  Downloading tinysegmenter-0.3.tar.gz (16 kB)\n",
      "Requirement already satisfied: Pillow>=3.3.0 in /opt/anaconda3/lib/python3.7/site-packages (from newspaper3k) (7.0.0)\n",
      "Requirement already satisfied: PyYAML>=3.11 in /opt/anaconda3/lib/python3.7/site-packages (from newspaper3k) (5.3)\n",
      "Collecting jieba3k>=0.35.1\n",
      "  Downloading jieba3k-0.35.1.zip (7.4 MB)\n",
      "\u001b[K     |████████████████████████████████| 7.4 MB 1.1 MB/s eta 0:00:01\n",
      "\u001b[?25hRequirement already satisfied: lxml>=3.6.0 in /opt/anaconda3/lib/python3.7/site-packages (from newspaper3k) (4.5.0)\n",
      "Collecting feedfinder2>=0.0.4\n",
      "  Downloading feedfinder2-0.0.4.tar.gz (3.3 kB)\n",
      "Requirement already satisfied: python-dateutil>=2.5.3 in /opt/anaconda3/lib/python3.7/site-packages (from newspaper3k) (2.8.1)\n",
      "Collecting tldextract>=2.0.1\n",
      "  Downloading tldextract-2.2.2-py2.py3-none-any.whl (48 kB)\n",
      "\u001b[K     |████████████████████████████████| 48 kB 1.0 MB/s eta 0:00:01\n",
      "\u001b[?25hRequirement already satisfied: requests>=2.10.0 in /opt/anaconda3/lib/python3.7/site-packages (from newspaper3k) (2.22.0)\n",
      "Collecting feedparser>=5.2.1\n",
      "  Downloading feedparser-5.2.1.tar.bz2 (192 kB)\n",
      "\u001b[K     |████████████████████████████████| 192 kB 1.4 MB/s eta 0:00:01\n",
      "\u001b[?25hRequirement already satisfied: soupsieve>=1.2 in /opt/anaconda3/lib/python3.7/site-packages (from beautifulsoup4>=4.4.1->newspaper3k) (1.9.5)\n",
      "Requirement already satisfied: six in /opt/anaconda3/lib/python3.7/site-packages (from nltk>=3.2.1->newspaper3k) (1.14.0)\n",
      "Requirement already satisfied: setuptools in /opt/anaconda3/lib/python3.7/site-packages (from tldextract>=2.0.1->newspaper3k) (46.0.0.post20200309)\n",
      "Requirement already satisfied: idna in /opt/anaconda3/lib/python3.7/site-packages (from tldextract>=2.0.1->newspaper3k) (2.8)\n",
      "Collecting requests-file>=1.4\n",
      "  Downloading requests_file-1.5.1-py2.py3-none-any.whl (3.7 kB)\n",
      "Requirement already satisfied: chardet<3.1.0,>=3.0.2 in /opt/anaconda3/lib/python3.7/site-packages (from requests>=2.10.0->newspaper3k) (3.0.4)\n",
      "Requirement already satisfied: certifi>=2017.4.17 in /opt/anaconda3/lib/python3.7/site-packages (from requests>=2.10.0->newspaper3k) (2019.11.28)\n",
      "Requirement already satisfied: urllib3!=1.25.0,!=1.25.1,<1.26,>=1.21.1 in /opt/anaconda3/lib/python3.7/site-packages (from requests>=2.10.0->newspaper3k) (1.25.8)\n",
      "Building wheels for collected packages: tinysegmenter, jieba3k, feedfinder2, feedparser\n",
      "  Building wheel for tinysegmenter (setup.py) ... \u001b[?25ldone\n",
      "\u001b[?25h  Created wheel for tinysegmenter: filename=tinysegmenter-0.3-py3-none-any.whl size=13538 sha256=b8716a935f782f88b38b68dc104f29d22dcd2b731246e6a1a8aa201878fa04c1\n",
      "  Stored in directory: /Users/galka/Library/Caches/pip/wheels/df/67/41/faca10fa501ca010be41b49d40360c2959e1c4f09bcbfa37fa\n",
      "  Building wheel for jieba3k (setup.py) ... \u001b[?25ldone\n",
      "\u001b[?25h  Created wheel for jieba3k: filename=jieba3k-0.35.1-py3-none-any.whl size=7398406 sha256=023ca3d3a185df1dff0b3bc9db35a123ae6682b81a63387cdcd6e8d7b2031c80\n",
      "  Stored in directory: /Users/galka/Library/Caches/pip/wheels/4c/91/46/3c208287b726df325a5979574324878b679116e4baae1af3c3\n",
      "  Building wheel for feedfinder2 (setup.py) ... \u001b[?25ldone\n",
      "\u001b[?25h  Created wheel for feedfinder2: filename=feedfinder2-0.0.4-py3-none-any.whl size=3355 sha256=f6860ab039357b7ba03be94696cabe50070f1b35fbd6c763949cde74ad036157\n",
      "  Stored in directory: /Users/galka/Library/Caches/pip/wheels/7f/d4/8f/6e2ca54744c9d7292d88ddb8d42876bcdab5e6d84a21c10346\n",
      "  Building wheel for feedparser (setup.py) ... \u001b[?25ldone\n",
      "\u001b[?25h  Created wheel for feedparser: filename=feedparser-5.2.1-py3-none-any.whl size=44939 sha256=0691eb067df7d5153044cac47d89740578ced7da1fc13fa82695aeebb0e63ceb\n",
      "  Stored in directory: /Users/galka/Library/Caches/pip/wheels/4a/87/a9/ef99b7b68f9816d5ef1262dc11ce31a93a844eb69e68c1a031\n",
      "Successfully built tinysegmenter jieba3k feedfinder2 feedparser\n",
      "Installing collected packages: cssselect, tinysegmenter, jieba3k, feedfinder2, requests-file, tldextract, feedparser, newspaper3k\n",
      "Successfully installed cssselect-1.1.0 feedfinder2-0.0.4 feedparser-5.2.1 jieba3k-0.35.1 newspaper3k-0.2.8 requests-file-1.5.1 tinysegmenter-0.3 tldextract-2.2.2\n"
     ]
    }
   ],
   "source": [
    "!pip install newspaper3k"
   ]
  },
  {
   "cell_type": "code",
   "execution_count": 3,
   "metadata": {
    "scrolled": true
   },
   "outputs": [
    {
     "name": "stdout",
     "output_type": "stream",
     "text": [
      "/bin/sh: wget: command not found\r\n"
     ]
    }
   ],
   "source": [
    "!wget https://chromedriver.storage.googleapis.com/80.0.3987.106/chromedriver_mac64.zip"
   ]
  },
  {
   "cell_type": "code",
   "execution_count": 4,
   "metadata": {},
   "outputs": [
    {
     "name": "stdout",
     "output_type": "stream",
     "text": [
      "unzip:  cannot find or open chromedriver.zip, chromedriver.zip.zip or chromedriver.zip.ZIP.\r\n"
     ]
    }
   ],
   "source": [
    "!unzip chromedriver.zip"
   ]
  },
  {
   "cell_type": "code",
   "execution_count": 5,
   "metadata": {},
   "outputs": [
    {
     "name": "stdout",
     "output_type": "stream",
     "text": [
      "1-s2.0-S0010027797000395-main.pdf\r\n",
      "1-s2.0-S0149763413000420-main.pdf\r\n",
      "1-s2.0-S0896627317309182-main.pdf\r\n",
      "10% wkład, 20 lat.pdf\r\n",
      "20% wkład, 15 lat.pdf\r\n",
      "20% wkład, 20 lat.pdf\r\n",
      "30102019.py\r\n",
      "35_Browser%20Hardening_Gate%202_High-Level%20Design_v2.2.pptx\r\n",
      "4q263f4k4r3g1x232z2f000q2a0m032b0m05270k042831012b0m021v0q08270h092f070i262t052j.pdf\r\n",
      "80678716_2505829842876015_236812853045100544_o.jpg\r\n",
      "9-linear-model-3.nb.html\r\n",
      "APA_Publication_Manual_6_compressed.pdf\r\n",
      "Anova_lin.regression.R\r\n",
      "C. Frith  Neural correlates of consciousness.pdf\r\n",
      "CMP - Pictionary - Phase 1.docx\r\n",
      "CMP II Game.docx\r\n",
      "CMP Notes.docx\r\n",
      "Class11.pptx\r\n",
      "Class5_6.pptx\r\n",
      "Class6_Examples.m\r\n",
      "Class_12_November.R\r\n",
      "Class_Examples.m\r\n",
      "DK1 od 25.05.2020 r.pdf\r\n",
      "Definiteness proposal AP-2.pdf\r\n",
      "Definiteness proposal AP.pdf\r\n",
      "Employees%20Changes%20for%20IAM%20200116.xls\r\n",
      "Enable%20tools%20Status%20program%20report%2020190117%20v.1.0.pptx\r\n",
      "Essay_Halyna_But.docx\r\n",
      "Exam CPM 2020.docx\r\n",
      "Exam_Halyna_But.r\r\n",
      "G11m11_Innogy_faktura_z_kwietnia_za_marzec.pdf\r\n",
      "Group%20IT%20employee%20recognition%20-%20OT%20view%20and%20Reward%202019.11.22%20incl%20comments%20BDN.xlsx\r\n",
      "Group%20IT%20employee%20recognition%20Master%20file.xls\r\n",
      "Guide_how_to_execute_web_applications_tests.doc\r\n",
      "HHHH.R\r\n",
      "\u001b[34mHSQ\u001b[m\u001b[m\r\n",
      "HW1.py\r\n",
      "HW1_Halyna_But.R\r\n",
      "HW1_data.py\r\n",
      "HW2.Rmd\r\n",
      "HW2.nb.html\r\n",
      "HW2_But_Halyna.ipynb\r\n",
      "\u001b[34mHW2_pack\u001b[m\u001b[m\r\n",
      "HW3-1.pdf\r\n",
      "HW3_But_Halyna.ipynb\r\n",
      "\u001b[34mHW3_pack\u001b[m\u001b[m\r\n",
      "HW7.pdf\r\n",
      "Highly_Religious_Participants_Recruit_Areas_of_Soc.pdf\r\n",
      "Homework 4.pdf\r\n",
      "Homework_4_Halyna_But-2.docx\r\n",
      "Homework_4_Halyna_But.docx\r\n",
      "IMCP Exam.pdf\r\n",
      "Ibanez et al., 2012.pdf\r\n",
      "Instructions Phase 2.docx\r\n",
      "June%202019%20Crisis%20-%20Special%20bonus%20for%20IT%20-19.12.2019.xlsx\r\n",
      "Koch (2016).pdf\r\n",
      "Koch on consciousness-2.pdf\r\n",
      "Koch on consciousness.pdf\r\n",
      "Lab Report Instructions Experimental Semiotics.docx\r\n",
      "Lambda.Calculator.SE-2.3.0.dmg\r\n",
      "\u001b[34mLambda.Calculator.SE-2.3.0.dmg.download\u001b[m\u001b[m\r\n",
      "Lecture XII CPM II Perception.pdf\r\n",
      "Location%20Strategy%20key%20points.xlsx\r\n",
      "Lyrics-Beatles.txt\r\n",
      "Lyrics-BobDylan.txt\r\n",
      "\u001b[34mMACH_data\u001b[m\u001b[m\r\n",
      "NCI60.csv\r\n",
      "NLP Project Synopsis.pdf\r\n",
      "NLP-Natural-Language-Processing-with-PyTorch-2019.pdf\r\n",
      "NLP_Lecture_4.pptx\r\n",
      "Negative social image (Responses).xlsx\r\n",
      "OSCscience.pdf\r\n",
      "OrderedText.txt\r\n",
      "Phase I.txt\r\n",
      "Phase II.txt\r\n",
      "Positive social image (Odpowiedzi)-2.xlsx\r\n",
      "Project%20SUP%2035%20-%20Browser%20hardening-2.mpp\r\n",
      "Project%20SUP%2035%20-%20Browser%20hardening.mpp\r\n",
      "R_10.15.19.R\r\n",
      "RandomText.txt\r\n",
      "Report-4-2.docx\r\n",
      "Results_2020 (1).xlsx\r\n",
      "Sandberg2010.pdf\r\n",
      "Searle (1980).pdf\r\n",
      "Skype-8.53.0.85.dmg\r\n",
      "Sohn (2019).pdf\r\n",
      "Stats.pptx\r\n",
      "Stats_examples.m\r\n",
      "Textbook-2.pdf\r\n",
      "Textbook-3.pdf\r\n",
      "Textbook-4.pdf\r\n",
      "Textbook-5.pdf\r\n",
      "Textbook.pdf\r\n",
      "TheoryPsych2009.pdf\r\n",
      "Untitled(1).ipynb\r\n",
      "Untitled-Copy1-2.ipynb\r\n",
      "Untitled-Copy1.ipynb\r\n",
      "Untitled.ipynb\r\n",
      "Untitled0.ipynb\r\n",
      "Untitled1.ipynb\r\n",
      "White_2017_._What_the_cognitive_science.docx\r\n",
      "WierzchoÅ? et al (2019).pdf\r\n",
      "Zakharova_hw2.ipynb\r\n",
      "Zoom.pkg\r\n",
      "brown-universal.txt\r\n",
      "bug.JPG\r\n",
      "categoricts1.txt\r\n",
      "categoricts2.txt\r\n",
      "chromedriver_mac64.zip\r\n",
      "class schedule SUMMER students.pdf\r\n",
      "\u001b[34mdata\u001b[m\u001b[m\r\n",
      "default of credit card clients.xls\r\n",
      "dlscrib.com_bermudez-jl-cognitive-science-an-introduction-to-the-science-of-the-mind-cup-2014pdf.pdf\r\n",
      "draft_final project.rtf\r\n",
      "egz.kogni.r\r\n",
      "eng-fra.txt\r\n",
      "examples_class_5.m\r\n",
      "exercise5.mat\r\n",
      "faktura-2-05-2020.pdf\r\n",
      "faktura-5-04-2020.pdf\r\n",
      "fpsyg-09-00180.pdf\r\n",
      "ghostdriver.log\r\n",
      "helpers.py\r\n",
      "homework3.ipynb\r\n",
      "hw2.ipynb\r\n",
      "hw3_Halyna_But.ipynb\r\n",
      "ipynb.ipynb\r\n",
      "kol1.1.eng.doc\r\n",
      "kol1.2.eng.doc\r\n",
      "lab_01.ipynb\r\n",
      "\u001b[34mlab_02\u001b[m\u001b[m\r\n",
      "lab_02_rqa.ipynb\r\n",
      "\u001b[34mlab_03\u001b[m\u001b[m\r\n",
      "\u001b[34mlab_04\u001b[m\u001b[m\r\n",
      "\u001b[34mlab_04v2\u001b[m\u001b[m\r\n",
      "\u001b[34mlab_05v2\u001b[m\u001b[m\r\n",
      "\u001b[34mlab_06\u001b[m\u001b[m\r\n",
      "\u001b[34mlab_06v2\u001b[m\u001b[m\r\n",
      "\u001b[34mlab_07v2\u001b[m\u001b[m\r\n",
      "\u001b[34mlab_08v2\u001b[m\u001b[m\r\n",
      "\u001b[34mlabs_01_02\u001b[m\u001b[m\r\n",
      "leung2011 implicit learning of contextually derived meanings.pdf\r\n",
      "m246_1_solutions.pdf\r\n",
      "main-2.py\r\n",
      "main.py\r\n",
      "\u001b[31mmatlab_R2020a_maci64.dmg\u001b[m\u001b[m\r\n",
      "meeting-201742359.ics\r\n",
      "names.csv\r\n",
      "nlp_26.02.2020\r\n",
      "october23.py\r\n",
      "\u001b[34mpaintings\u001b[m\u001b[m\r\n",
      "pictionary_team_45_mins.rar\r\n",
      "sem_20191120-2.xls\r\n",
      "sem_20191120.xls\r\n",
      "sem_20191219.xls\r\n",
      "sem_20200122.xls\r\n",
      "sentiments.odt\r\n",
      "spam (1).csv\r\n",
      "statistics-1.4.2.tar\r\n",
      "tags-universal.txt\r\n",
      "\u001b[34mtest\u001b[m\u001b[m\r\n",
      "test.zip\r\n",
      "tutor3.doc\r\n",
      "url.html\r\n",
      "view.html\r\n",
      "view.php-2.html\r\n",
      "view.php.html\r\n",
      "zad6.r\r\n"
     ]
    }
   ],
   "source": [
    "!ls"
   ]
  },
  {
   "cell_type": "code",
   "execution_count": 6,
   "metadata": {},
   "outputs": [],
   "source": [
    "from selenium import webdriver\n",
    "from selenium.webdriver.common.keys import Keys"
   ]
  },
  {
   "cell_type": "code",
   "execution_count": 16,
   "metadata": {
    "scrolled": true
   },
   "outputs": [
    {
     "ename": "WebDriverException",
     "evalue": "Message: 'chromedriver' executable needs to be in PATH. Please see https://sites.google.com/a/chromium.org/chromedriver/home\n",
     "output_type": "error",
     "traceback": [
      "\u001b[0;31m---------------------------------------------------------------------------\u001b[0m",
      "\u001b[0;31mFileNotFoundError\u001b[0m                         Traceback (most recent call last)",
      "\u001b[0;32m//anaconda3/lib/python3.7/site-packages/selenium/webdriver/common/service.py\u001b[0m in \u001b[0;36mstart\u001b[0;34m(self)\u001b[0m\n\u001b[1;32m     75\u001b[0m                                             \u001b[0mstderr\u001b[0m\u001b[0;34m=\u001b[0m\u001b[0mself\u001b[0m\u001b[0;34m.\u001b[0m\u001b[0mlog_file\u001b[0m\u001b[0;34m,\u001b[0m\u001b[0;34m\u001b[0m\u001b[0;34m\u001b[0m\u001b[0m\n\u001b[0;32m---> 76\u001b[0;31m                                             stdin=PIPE)\n\u001b[0m\u001b[1;32m     77\u001b[0m         \u001b[0;32mexcept\u001b[0m \u001b[0mTypeError\u001b[0m\u001b[0;34m:\u001b[0m\u001b[0;34m\u001b[0m\u001b[0;34m\u001b[0m\u001b[0m\n",
      "\u001b[0;32m//anaconda3/lib/python3.7/subprocess.py\u001b[0m in \u001b[0;36m__init__\u001b[0;34m(self, args, bufsize, executable, stdin, stdout, stderr, preexec_fn, close_fds, shell, cwd, env, universal_newlines, startupinfo, creationflags, restore_signals, start_new_session, pass_fds, encoding, errors, text)\u001b[0m\n\u001b[1;32m    774\u001b[0m                                 \u001b[0merrread\u001b[0m\u001b[0;34m,\u001b[0m \u001b[0merrwrite\u001b[0m\u001b[0;34m,\u001b[0m\u001b[0;34m\u001b[0m\u001b[0;34m\u001b[0m\u001b[0m\n\u001b[0;32m--> 775\u001b[0;31m                                 restore_signals, start_new_session)\n\u001b[0m\u001b[1;32m    776\u001b[0m         \u001b[0;32mexcept\u001b[0m\u001b[0;34m:\u001b[0m\u001b[0;34m\u001b[0m\u001b[0;34m\u001b[0m\u001b[0m\n",
      "\u001b[0;32m//anaconda3/lib/python3.7/subprocess.py\u001b[0m in \u001b[0;36m_execute_child\u001b[0;34m(self, args, executable, preexec_fn, close_fds, pass_fds, cwd, env, startupinfo, creationflags, shell, p2cread, p2cwrite, c2pread, c2pwrite, errread, errwrite, restore_signals, start_new_session)\u001b[0m\n\u001b[1;32m   1521\u001b[0m                             \u001b[0merr_msg\u001b[0m \u001b[0;34m+=\u001b[0m \u001b[0;34m': '\u001b[0m \u001b[0;34m+\u001b[0m \u001b[0mrepr\u001b[0m\u001b[0;34m(\u001b[0m\u001b[0merr_filename\u001b[0m\u001b[0;34m)\u001b[0m\u001b[0;34m\u001b[0m\u001b[0;34m\u001b[0m\u001b[0m\n\u001b[0;32m-> 1522\u001b[0;31m                     \u001b[0;32mraise\u001b[0m \u001b[0mchild_exception_type\u001b[0m\u001b[0;34m(\u001b[0m\u001b[0merrno_num\u001b[0m\u001b[0;34m,\u001b[0m \u001b[0merr_msg\u001b[0m\u001b[0;34m,\u001b[0m \u001b[0merr_filename\u001b[0m\u001b[0;34m)\u001b[0m\u001b[0;34m\u001b[0m\u001b[0;34m\u001b[0m\u001b[0m\n\u001b[0m\u001b[1;32m   1523\u001b[0m                 \u001b[0;32mraise\u001b[0m \u001b[0mchild_exception_type\u001b[0m\u001b[0;34m(\u001b[0m\u001b[0merr_msg\u001b[0m\u001b[0;34m)\u001b[0m\u001b[0;34m\u001b[0m\u001b[0;34m\u001b[0m\u001b[0m\n",
      "\u001b[0;31mFileNotFoundError\u001b[0m: [Errno 2] No such file or directory: './chromedriver': './chromedriver'",
      "\nDuring handling of the above exception, another exception occurred:\n",
      "\u001b[0;31mWebDriverException\u001b[0m                        Traceback (most recent call last)",
      "\u001b[0;32m<ipython-input-16-0d6f2db4b3ca>\u001b[0m in \u001b[0;36m<module>\u001b[0;34m\u001b[0m\n\u001b[0;32m----> 1\u001b[0;31m \u001b[0mdriver\u001b[0m \u001b[0;34m=\u001b[0m \u001b[0mwebdriver\u001b[0m\u001b[0;34m.\u001b[0m\u001b[0mChrome\u001b[0m\u001b[0;34m(\u001b[0m\u001b[0;34m\"./chromedriver\"\u001b[0m\u001b[0;34m)\u001b[0m\u001b[0;34m\u001b[0m\u001b[0;34m\u001b[0m\u001b[0m\n\u001b[0m\u001b[1;32m      2\u001b[0m \u001b[0mdriver\u001b[0m\u001b[0;34m.\u001b[0m\u001b[0mget\u001b[0m\u001b[0;34m(\u001b[0m\u001b[0;34m\"http://www.python.org\"\u001b[0m\u001b[0;34m)\u001b[0m\u001b[0;34m\u001b[0m\u001b[0;34m\u001b[0m\u001b[0m\n",
      "\u001b[0;32m//anaconda3/lib/python3.7/site-packages/selenium/webdriver/chrome/webdriver.py\u001b[0m in \u001b[0;36m__init__\u001b[0;34m(self, executable_path, port, options, service_args, desired_capabilities, service_log_path, chrome_options, keep_alive)\u001b[0m\n\u001b[1;32m     71\u001b[0m             \u001b[0mservice_args\u001b[0m\u001b[0;34m=\u001b[0m\u001b[0mservice_args\u001b[0m\u001b[0;34m,\u001b[0m\u001b[0;34m\u001b[0m\u001b[0;34m\u001b[0m\u001b[0m\n\u001b[1;32m     72\u001b[0m             log_path=service_log_path)\n\u001b[0;32m---> 73\u001b[0;31m         \u001b[0mself\u001b[0m\u001b[0;34m.\u001b[0m\u001b[0mservice\u001b[0m\u001b[0;34m.\u001b[0m\u001b[0mstart\u001b[0m\u001b[0;34m(\u001b[0m\u001b[0;34m)\u001b[0m\u001b[0;34m\u001b[0m\u001b[0;34m\u001b[0m\u001b[0m\n\u001b[0m\u001b[1;32m     74\u001b[0m \u001b[0;34m\u001b[0m\u001b[0m\n\u001b[1;32m     75\u001b[0m         \u001b[0;32mtry\u001b[0m\u001b[0;34m:\u001b[0m\u001b[0;34m\u001b[0m\u001b[0;34m\u001b[0m\u001b[0m\n",
      "\u001b[0;32m//anaconda3/lib/python3.7/site-packages/selenium/webdriver/common/service.py\u001b[0m in \u001b[0;36mstart\u001b[0;34m(self)\u001b[0m\n\u001b[1;32m     81\u001b[0m                 raise WebDriverException(\n\u001b[1;32m     82\u001b[0m                     \"'%s' executable needs to be in PATH. %s\" % (\n\u001b[0;32m---> 83\u001b[0;31m                         os.path.basename(self.path), self.start_error_message)\n\u001b[0m\u001b[1;32m     84\u001b[0m                 )\n\u001b[1;32m     85\u001b[0m             \u001b[0;32melif\u001b[0m \u001b[0merr\u001b[0m\u001b[0;34m.\u001b[0m\u001b[0merrno\u001b[0m \u001b[0;34m==\u001b[0m \u001b[0merrno\u001b[0m\u001b[0;34m.\u001b[0m\u001b[0mEACCES\u001b[0m\u001b[0;34m:\u001b[0m\u001b[0;34m\u001b[0m\u001b[0;34m\u001b[0m\u001b[0m\n",
      "\u001b[0;31mWebDriverException\u001b[0m: Message: 'chromedriver' executable needs to be in PATH. Please see https://sites.google.com/a/chromium.org/chromedriver/home\n"
     ]
    }
   ],
   "source": [
    "driver = webdriver.Chrome(\"./chromedriver\")\n",
    "driver.get(\"http://www.python.org\")"
   ]
  },
  {
   "cell_type": "code",
   "execution_count": 8,
   "metadata": {},
   "outputs": [
    {
     "ename": "NameError",
     "evalue": "name 'driver' is not defined",
     "output_type": "error",
     "traceback": [
      "\u001b[0;31m---------------------------------------------------------------------------\u001b[0m",
      "\u001b[0;31mNameError\u001b[0m                                 Traceback (most recent call last)",
      "\u001b[0;32m<ipython-input-8-3cc2d39e9066>\u001b[0m in \u001b[0;36m<module>\u001b[0;34m\u001b[0m\n\u001b[0;32m----> 1\u001b[0;31m \u001b[0mdriver\u001b[0m\u001b[0;34m.\u001b[0m\u001b[0mget\u001b[0m\u001b[0;34m(\u001b[0m\u001b[0;34m\"https://www.foxnews.com/media/new-york-times-donald-mcneil-jr\"\u001b[0m\u001b[0;34m)\u001b[0m\u001b[0;34m\u001b[0m\u001b[0;34m\u001b[0m\u001b[0m\n\u001b[0m",
      "\u001b[0;31mNameError\u001b[0m: name 'driver' is not defined"
     ]
    }
   ],
   "source": [
    "driver.get(\"https://www.foxnews.com/media/new-york-times-donald-mcneil-jr\")"
   ]
  },
  {
   "cell_type": "code",
   "execution_count": 9,
   "metadata": {},
   "outputs": [
    {
     "ename": "NameError",
     "evalue": "name 'driver' is not defined",
     "output_type": "error",
     "traceback": [
      "\u001b[0;31m---------------------------------------------------------------------------\u001b[0m",
      "\u001b[0;31mNameError\u001b[0m                                 Traceback (most recent call last)",
      "\u001b[0;32m<ipython-input-9-34b4a8a39f0d>\u001b[0m in \u001b[0;36m<module>\u001b[0;34m\u001b[0m\n\u001b[0;32m----> 1\u001b[0;31m \u001b[0melem\u001b[0m \u001b[0;34m=\u001b[0m \u001b[0mdriver\u001b[0m\u001b[0;34m.\u001b[0m\u001b[0mfind_element_by_class_name\u001b[0m\u001b[0;34m(\u001b[0m\u001b[0;34m\"cd__headline\"\u001b[0m\u001b[0;34m)\u001b[0m\u001b[0;34m\u001b[0m\u001b[0;34m\u001b[0m\u001b[0m\n\u001b[0m",
      "\u001b[0;31mNameError\u001b[0m: name 'driver' is not defined"
     ]
    }
   ],
   "source": [
    "elem = driver.find_element_by_class_name(\"cd__headline\")"
   ]
  },
  {
   "cell_type": "code",
   "execution_count": 10,
   "metadata": {},
   "outputs": [
    {
     "ename": "NameError",
     "evalue": "name 'elem' is not defined",
     "output_type": "error",
     "traceback": [
      "\u001b[0;31m---------------------------------------------------------------------------\u001b[0m",
      "\u001b[0;31mNameError\u001b[0m                                 Traceback (most recent call last)",
      "\u001b[0;32m<ipython-input-10-6eb9de6068ea>\u001b[0m in \u001b[0;36m<module>\u001b[0;34m\u001b[0m\n\u001b[0;32m----> 1\u001b[0;31m \u001b[0melem\u001b[0m\u001b[0;34m.\u001b[0m\u001b[0mclick\u001b[0m\u001b[0;34m(\u001b[0m\u001b[0;34m)\u001b[0m\u001b[0;34m\u001b[0m\u001b[0;34m\u001b[0m\u001b[0m\n\u001b[0m",
      "\u001b[0;31mNameError\u001b[0m: name 'elem' is not defined"
     ]
    }
   ],
   "source": [
    "elem.click()"
   ]
  },
  {
   "cell_type": "code",
   "execution_count": 11,
   "metadata": {},
   "outputs": [
    {
     "ename": "NameError",
     "evalue": "name 'driver' is not defined",
     "output_type": "error",
     "traceback": [
      "\u001b[0;31m---------------------------------------------------------------------------\u001b[0m",
      "\u001b[0;31mNameError\u001b[0m                                 Traceback (most recent call last)",
      "\u001b[0;32m<ipython-input-11-29c18cbbed58>\u001b[0m in \u001b[0;36m<module>\u001b[0;34m\u001b[0m\n\u001b[0;32m----> 1\u001b[0;31m \u001b[0marticles\u001b[0m \u001b[0;34m=\u001b[0m \u001b[0mdriver\u001b[0m\u001b[0;34m.\u001b[0m\u001b[0mfind_elements_by_tag_name\u001b[0m\u001b[0;34m(\u001b[0m\u001b[0;34m\"article\"\u001b[0m\u001b[0;34m)\u001b[0m\u001b[0;34m\u001b[0m\u001b[0;34m\u001b[0m\u001b[0m\n\u001b[0m",
      "\u001b[0;31mNameError\u001b[0m: name 'driver' is not defined"
     ]
    }
   ],
   "source": [
    "articles = driver.find_elements_by_tag_name(\"article\")"
   ]
  },
  {
   "cell_type": "code",
   "execution_count": 12,
   "metadata": {},
   "outputs": [
    {
     "ename": "NameError",
     "evalue": "name 'articles' is not defined",
     "output_type": "error",
     "traceback": [
      "\u001b[0;31m---------------------------------------------------------------------------\u001b[0m",
      "\u001b[0;31mNameError\u001b[0m                                 Traceback (most recent call last)",
      "\u001b[0;32m<ipython-input-12-18c8cc1108e3>\u001b[0m in \u001b[0;36m<module>\u001b[0;34m\u001b[0m\n\u001b[0;32m----> 1\u001b[0;31m \u001b[0mlen\u001b[0m\u001b[0;34m(\u001b[0m\u001b[0marticles\u001b[0m\u001b[0;34m)\u001b[0m\u001b[0;34m\u001b[0m\u001b[0;34m\u001b[0m\u001b[0m\n\u001b[0m",
      "\u001b[0;31mNameError\u001b[0m: name 'articles' is not defined"
     ]
    }
   ],
   "source": [
    "len(articles)"
   ]
  },
  {
   "cell_type": "code",
   "execution_count": 13,
   "metadata": {},
   "outputs": [
    {
     "ename": "NameError",
     "evalue": "name 'articles' is not defined",
     "output_type": "error",
     "traceback": [
      "\u001b[0;31m---------------------------------------------------------------------------\u001b[0m",
      "\u001b[0;31mNameError\u001b[0m                                 Traceback (most recent call last)",
      "\u001b[0;32m<ipython-input-13-4fbaec6eff45>\u001b[0m in \u001b[0;36m<module>\u001b[0;34m\u001b[0m\n\u001b[0;32m----> 1\u001b[0;31m \u001b[0marticles\u001b[0m\u001b[0;34m[\u001b[0m\u001b[0;36m0\u001b[0m\u001b[0;34m]\u001b[0m\u001b[0;34m\u001b[0m\u001b[0;34m\u001b[0m\u001b[0m\n\u001b[0m",
      "\u001b[0;31mNameError\u001b[0m: name 'articles' is not defined"
     ]
    }
   ],
   "source": [
    "articles[0]"
   ]
  },
  {
   "cell_type": "code",
   "execution_count": 14,
   "metadata": {},
   "outputs": [
    {
     "ename": "NameError",
     "evalue": "name 'driver' is not defined",
     "output_type": "error",
     "traceback": [
      "\u001b[0;31m---------------------------------------------------------------------------\u001b[0m",
      "\u001b[0;31mNameError\u001b[0m                                 Traceback (most recent call last)",
      "\u001b[0;32m<ipython-input-14-5ca18a6a2c3c>\u001b[0m in \u001b[0;36m<module>\u001b[0;34m\u001b[0m\n\u001b[0;32m----> 1\u001b[0;31m \u001b[0melem\u001b[0m \u001b[0;34m=\u001b[0m \u001b[0mdriver\u001b[0m\u001b[0;34m.\u001b[0m\u001b[0mfind_element_by_class_name\u001b[0m\u001b[0;34m(\u001b[0m\u001b[0;34m\"article-body\"\u001b[0m\u001b[0;34m)\u001b[0m\u001b[0;34m\u001b[0m\u001b[0;34m\u001b[0m\u001b[0m\n\u001b[0m",
      "\u001b[0;31mNameError\u001b[0m: name 'driver' is not defined"
     ]
    }
   ],
   "source": [
    "elem = driver.find_element_by_class_name(\"article-body\")"
   ]
  },
  {
   "cell_type": "code",
   "execution_count": 15,
   "metadata": {},
   "outputs": [
    {
     "ename": "NameError",
     "evalue": "name 'elem' is not defined",
     "output_type": "error",
     "traceback": [
      "\u001b[0;31m---------------------------------------------------------------------------\u001b[0m",
      "\u001b[0;31mNameError\u001b[0m                                 Traceback (most recent call last)",
      "\u001b[0;32m<ipython-input-15-caff9590ff5f>\u001b[0m in \u001b[0;36m<module>\u001b[0;34m\u001b[0m\n\u001b[0;32m----> 1\u001b[0;31m \u001b[0;32mfor\u001b[0m \u001b[0mp\u001b[0m \u001b[0;32min\u001b[0m \u001b[0melem\u001b[0m\u001b[0;34m.\u001b[0m\u001b[0mfind_elements_by_tag_name\u001b[0m\u001b[0;34m(\u001b[0m\u001b[0;34m\"p\"\u001b[0m\u001b[0;34m)\u001b[0m\u001b[0;34m:\u001b[0m\u001b[0;34m\u001b[0m\u001b[0;34m\u001b[0m\u001b[0m\n\u001b[0m\u001b[1;32m      2\u001b[0m     \u001b[0mprint\u001b[0m\u001b[0;34m(\u001b[0m\u001b[0mp\u001b[0m\u001b[0;34m.\u001b[0m\u001b[0mtext\u001b[0m\u001b[0;34m)\u001b[0m\u001b[0;34m\u001b[0m\u001b[0;34m\u001b[0m\u001b[0m\n\u001b[1;32m      3\u001b[0m     \u001b[0mprint\u001b[0m\u001b[0;34m(\u001b[0m\u001b[0;34m)\u001b[0m\u001b[0;34m\u001b[0m\u001b[0;34m\u001b[0m\u001b[0m\n",
      "\u001b[0;31mNameError\u001b[0m: name 'elem' is not defined"
     ]
    }
   ],
   "source": [
    "for p in elem.find_elements_by_tag_name(\"p\"):\n",
    "    print(p.text)\n",
    "    print()"
   ]
  },
  {
   "cell_type": "code",
   "execution_count": 11,
   "metadata": {
    "collapsed": true
   },
   "outputs": [],
   "source": [
    "driver.get(\"https://www.foxnews.com/media/new-york-times-donald-mcneil-jr\")"
   ]
  },
  {
   "cell_type": "code",
   "execution_count": 18,
   "metadata": {},
   "outputs": [
    {
     "name": "stdout",
     "output_type": "stream",
     "text": [
      "Requirement already satisfied: requests in /opt/anaconda3/lib/python3.7/site-packages (2.22.0)\n",
      "Requirement already satisfied: urllib3!=1.25.0,!=1.25.1,<1.26,>=1.21.1 in /opt/anaconda3/lib/python3.7/site-packages (from requests) (1.25.8)\n",
      "Requirement already satisfied: chardet<3.1.0,>=3.0.2 in /opt/anaconda3/lib/python3.7/site-packages (from requests) (3.0.4)\n",
      "Requirement already satisfied: idna<2.9,>=2.5 in /opt/anaconda3/lib/python3.7/site-packages (from requests) (2.8)\n",
      "Requirement already satisfied: certifi>=2017.4.17 in /opt/anaconda3/lib/python3.7/site-packages (from requests) (2019.11.28)\n"
     ]
    }
   ],
   "source": [
    "!pip install requests"
   ]
  },
  {
   "cell_type": "code",
   "execution_count": 19,
   "metadata": {},
   "outputs": [
    {
     "ename": "SyntaxError",
     "evalue": "invalid syntax (<ipython-input-19-b99180d0bb0b>, line 1)",
     "output_type": "error",
     "traceback": [
      "\u001b[0;36m  File \u001b[0;32m\"<ipython-input-19-b99180d0bb0b>\"\u001b[0;36m, line \u001b[0;32m1\u001b[0m\n\u001b[0;31m    git clone git://github.com/psf/requests.git\u001b[0m\n\u001b[0m            ^\u001b[0m\n\u001b[0;31mSyntaxError\u001b[0m\u001b[0;31m:\u001b[0m invalid syntax\n"
     ]
    }
   ],
   "source": [
    "git clone git://github.com/psf/requests.git"
   ]
  },
  {
   "cell_type": "code",
   "execution_count": 20,
   "metadata": {},
   "outputs": [
    {
     "ename": "SyntaxError",
     "evalue": "invalid syntax (<ipython-input-20-6a1330da92f1>, line 1)",
     "output_type": "error",
     "traceback": [
      "\u001b[0;36m  File \u001b[0;32m\"<ipython-input-20-6a1330da92f1>\"\u001b[0;36m, line \u001b[0;32m1\u001b[0m\n\u001b[0;31m    curl -OL https://github.com/psf/requests/tarball/master\u001b[0m\n\u001b[0m                 ^\u001b[0m\n\u001b[0;31mSyntaxError\u001b[0m\u001b[0;31m:\u001b[0m invalid syntax\n"
     ]
    }
   ],
   "source": [
    "curl -OL https://github.com/psf/requests/tarball/master"
   ]
  },
  {
   "cell_type": "code",
   "execution_count": 24,
   "metadata": {},
   "outputs": [
    {
     "name": "stdout",
     "output_type": "stream",
     "text": [
      "Processing ./psf-requests-v2.22.0-321-g9ed5db8.tar\n",
      "Requirement already satisfied: chardet<4,>=3.0.2 in /opt/anaconda3/lib/python3.7/site-packages (from requests==2.23.0) (3.0.4)\n",
      "Requirement already satisfied: idna<3,>=2.5 in /opt/anaconda3/lib/python3.7/site-packages (from requests==2.23.0) (2.8)\n",
      "Requirement already satisfied: urllib3!=1.25.0,!=1.25.1,<1.26,>=1.21.1 in /opt/anaconda3/lib/python3.7/site-packages (from requests==2.23.0) (1.25.8)\n",
      "Requirement already satisfied: certifi>=2017.4.17 in /opt/anaconda3/lib/python3.7/site-packages (from requests==2.23.0) (2019.11.28)\n",
      "Building wheels for collected packages: requests\n",
      "  Building wheel for requests (setup.py) ... \u001b[?25ldone\n",
      "\u001b[?25h  Created wheel for requests: filename=requests-2.23.0-py2.py3-none-any.whl size=58483 sha256=a9745d1419e42b27f1829fa3439811964c58868b84370adf7b4d8f45d087da4c\n",
      "  Stored in directory: /Users/galka/Library/Caches/pip/wheels/53/89/96/feaafcb9a47fd629df3ef3a164455e7455c9cd074c114f5cae\n",
      "Successfully built requests\n",
      "Installing collected packages: requests\n",
      "  Attempting uninstall: requests\n",
      "    Found existing installation: requests 2.22.0\n",
      "    Uninstalling requests-2.22.0:\n",
      "      Successfully uninstalled requests-2.22.0\n",
      "Successfully installed requests-2.23.0\n"
     ]
    }
   ],
   "source": [
    "!pip install /Users/galka/Downloads/psf-requests-v2.22.0-321-g9ed5db8.tar"
   ]
  },
  {
   "cell_type": "code",
   "execution_count": 69,
   "metadata": {
    "scrolled": true
   },
   "outputs": [
    {
     "name": "stdout",
     "output_type": "stream",
     "text": [
      "Requirement already satisfied: newspaper3k in /opt/anaconda3/lib/python3.7/site-packages (0.2.8)\n",
      "Requirement already satisfied: lxml>=3.6.0 in /opt/anaconda3/lib/python3.7/site-packages (from newspaper3k) (4.5.0)\n",
      "Requirement already satisfied: Pillow>=3.3.0 in /opt/anaconda3/lib/python3.7/site-packages (from newspaper3k) (7.0.0)\n",
      "Requirement already satisfied: jieba3k>=0.35.1 in /opt/anaconda3/lib/python3.7/site-packages (from newspaper3k) (0.35.1)\n",
      "Requirement already satisfied: tinysegmenter==0.3 in /opt/anaconda3/lib/python3.7/site-packages (from newspaper3k) (0.3)\n",
      "Requirement already satisfied: feedparser>=5.2.1 in /opt/anaconda3/lib/python3.7/site-packages (from newspaper3k) (5.2.1)\n",
      "Requirement already satisfied: tldextract>=2.0.1 in /opt/anaconda3/lib/python3.7/site-packages (from newspaper3k) (2.2.2)\n",
      "Requirement already satisfied: feedfinder2>=0.0.4 in /opt/anaconda3/lib/python3.7/site-packages (from newspaper3k) (0.0.4)\n",
      "Requirement already satisfied: nltk>=3.2.1 in /opt/anaconda3/lib/python3.7/site-packages (from newspaper3k) (3.4.5)\n",
      "Requirement already satisfied: cssselect>=0.9.2 in /opt/anaconda3/lib/python3.7/site-packages (from newspaper3k) (1.1.0)\n",
      "Requirement already satisfied: beautifulsoup4>=4.4.1 in /opt/anaconda3/lib/python3.7/site-packages (from newspaper3k) (4.8.2)\n",
      "Requirement already satisfied: PyYAML>=3.11 in /opt/anaconda3/lib/python3.7/site-packages (from newspaper3k) (5.3)\n",
      "Requirement already satisfied: requests>=2.10.0 in /opt/anaconda3/lib/python3.7/site-packages (from newspaper3k) (2.23.0)\n",
      "Requirement already satisfied: python-dateutil>=2.5.3 in /opt/anaconda3/lib/python3.7/site-packages (from newspaper3k) (2.8.1)\n",
      "Requirement already satisfied: requests-file>=1.4 in /opt/anaconda3/lib/python3.7/site-packages (from tldextract>=2.0.1->newspaper3k) (1.5.1)\n",
      "Requirement already satisfied: idna in /opt/anaconda3/lib/python3.7/site-packages (from tldextract>=2.0.1->newspaper3k) (2.8)\n",
      "Requirement already satisfied: setuptools in /opt/anaconda3/lib/python3.7/site-packages (from tldextract>=2.0.1->newspaper3k) (46.0.0.post20200309)\n",
      "Requirement already satisfied: six in /opt/anaconda3/lib/python3.7/site-packages (from feedfinder2>=0.0.4->newspaper3k) (1.14.0)\n",
      "Requirement already satisfied: soupsieve>=1.2 in /opt/anaconda3/lib/python3.7/site-packages (from beautifulsoup4>=4.4.1->newspaper3k) (1.9.5)\n",
      "Requirement already satisfied: certifi>=2017.4.17 in /opt/anaconda3/lib/python3.7/site-packages (from requests>=2.10.0->newspaper3k) (2019.11.28)\n",
      "Requirement already satisfied: chardet<4,>=3.0.2 in /opt/anaconda3/lib/python3.7/site-packages (from requests>=2.10.0->newspaper3k) (3.0.4)\n",
      "Requirement already satisfied: urllib3!=1.25.0,!=1.25.1,<1.26,>=1.21.1 in /opt/anaconda3/lib/python3.7/site-packages (from requests>=2.10.0->newspaper3k) (1.25.8)\n"
     ]
    }
   ],
   "source": [
    "!pip install newspaper3k"
   ]
  },
  {
   "cell_type": "code",
   "execution_count": 63,
   "metadata": {},
   "outputs": [
    {
     "name": "stdout",
     "output_type": "stream",
     "text": [
      "Collecting selenium\n",
      "  Using cached selenium-3.141.0-py2.py3-none-any.whl (904 kB)\n",
      "Requirement already satisfied: urllib3 in /opt/anaconda3/lib/python3.7/site-packages (from selenium) (1.25.8)\n",
      "Installing collected packages: selenium\n",
      "Successfully installed selenium-3.141.0\n"
     ]
    }
   ],
   "source": [
    "!pip install selenium"
   ]
  },
  {
   "cell_type": "code",
   "execution_count": 70,
   "metadata": {
    "scrolled": true
   },
   "outputs": [
    {
     "ename": "ModuleNotFoundError",
     "evalue": "No module named 'newspaper'",
     "output_type": "error",
     "traceback": [
      "\u001b[0;31m---------------------------------------------------------------------------\u001b[0m",
      "\u001b[0;31mModuleNotFoundError\u001b[0m                       Traceback (most recent call last)",
      "\u001b[0;32m<ipython-input-70-c320445ff2d0>\u001b[0m in \u001b[0;36m<module>\u001b[0;34m\u001b[0m\n\u001b[1;32m      4\u001b[0m \u001b[0;32mimport\u001b[0m \u001b[0mre\u001b[0m\u001b[0;34m\u001b[0m\u001b[0;34m\u001b[0m\u001b[0m\n\u001b[1;32m      5\u001b[0m \u001b[0;32mimport\u001b[0m \u001b[0mnltk\u001b[0m\u001b[0;34m\u001b[0m\u001b[0;34m\u001b[0m\u001b[0m\n\u001b[0;32m----> 6\u001b[0;31m \u001b[0;32mimport\u001b[0m \u001b[0mnewspaper\u001b[0m\u001b[0;34m\u001b[0m\u001b[0;34m\u001b[0m\u001b[0m\n\u001b[0m\u001b[1;32m      7\u001b[0m \u001b[0;32mfrom\u001b[0m \u001b[0mnewspaper\u001b[0m \u001b[0;32mimport\u001b[0m \u001b[0mArticle\u001b[0m\u001b[0;34m\u001b[0m\u001b[0;34m\u001b[0m\u001b[0m\n",
      "\u001b[0;31mModuleNotFoundError\u001b[0m: No module named 'newspaper'"
     ]
    }
   ],
   "source": [
    "import selenium\n",
    "import requests\n",
    "from bs4 import BeautifulSoup\n",
    "import re\n",
    "import nltk\n",
    "import newspaper\n",
    "from newspaper import Article"
   ]
  },
  {
   "cell_type": "code",
   "execution_count": 35,
   "metadata": {},
   "outputs": [],
   "source": [
    "r = requests.get('https://requests.readthedocs.io/en/master/user/quickstart/#make-a-request')"
   ]
  },
  {
   "cell_type": "code",
   "execution_count": 37,
   "metadata": {},
   "outputs": [],
   "source": [
    "html = r.text "
   ]
  },
  {
   "cell_type": "code",
   "execution_count": 40,
   "metadata": {},
   "outputs": [
    {
     "data": {
      "text/plain": [
       "bs4.BeautifulSoup"
      ]
     },
     "execution_count": 40,
     "metadata": {},
     "output_type": "execute_result"
    }
   ],
   "source": [
    "soup = BeautifulSoup(html, \"html5lib\")\n",
    "type(soup)"
   ]
  },
  {
   "cell_type": "code",
   "execution_count": 41,
   "metadata": {},
   "outputs": [
    {
     "data": {
      "text/plain": [
       "<title>Quickstart — Requests 2.23.0 documentation</title>"
      ]
     },
     "execution_count": 41,
     "metadata": {},
     "output_type": "execute_result"
    }
   ],
   "source": [
    "soup.title"
   ]
  },
  {
   "cell_type": "code",
   "execution_count": 44,
   "metadata": {},
   "outputs": [
    {
     "name": "stdout",
     "output_type": "stream",
     "text": [
      "\n",
      "    \n",
      "    \n",
      "    Quickstart — Requests 2.23.0 documentation\n",
      "    \n",
      "    \n",
      "    \n",
      "    \n",
      "    \n",
      "    \n",
      "    \n",
      "    \n",
      "    \n",
      "    \n",
      "    \n",
      "    \n",
      "    \n",
      "   \n",
      "  \n",
      "  \n",
      "  \n",
      "  \n",
      "\n",
      "  \n",
      "\n",
      "\n",
      "\n",
      "\n",
      "\n",
      "\n",
      "\n",
      "\n",
      "\n",
      "\n",
      "\n",
      "READTHEDOCS_DATA['page'] = \"user/quickstart\"\n",
      "READTHEDOCS_DATA['source_suffix'] = \".rst\"\n",
      "\n",
      "\n",
      "\n",
      "\n",
      "\n",
      "\n",
      "  \n",
      "\n",
      "    \n",
      "      \n",
      "        \n",
      "          \n",
      "\n",
      "          \n",
      "            \n",
      "  \n",
      "QuickstartÂ¶\n",
      "\n",
      "Eager to get started? This page gives a good introduction in how to get started\n",
      "with Requests.\n",
      "First, make sure that:\n",
      "\n",
      "Requests is installed\n",
      "Requests is up-to-date\n",
      "\n",
      "Letâs get started with some simple examples.\n",
      "\n",
      "Make a RequestÂ¶\n",
      "Making a request with Requests is very simple.\n",
      "Begin by importing the Requests module:\n",
      ">>> import requests\n",
      "\n",
      "\n",
      "Now, letâs try to get a webpage. For this example, letâs get GitHubâs public\n",
      "timeline:\n",
      ">>> r = requests.get('https://api.github.com/events')\n",
      "\n",
      "\n",
      "Now, we have a Response object called r. We can\n",
      "get all the information we need from this object.\n",
      "Requestsâ simple API means that all forms of HTTP request are as obvious. For\n",
      "example, this is how you make an HTTP POST request:\n",
      ">>> r = requests.post('https://httpbin.org/post', data = {'key':'value'})\n",
      "\n",
      "\n",
      "Nice, right? What about the other HTTP request types: PUT, DELETE, HEAD and\n",
      "OPTIONS? These are all just as simple:\n",
      ">>> r = requests.put('https://httpbin.org/put', data = {'key':'value'})\n",
      ">>> r = requests.delete('https://httpbin.org/delete')\n",
      ">>> r = requests.head('https://httpbin.org/get')\n",
      ">>> r = requests.options('https://httpbin.org/get')\n",
      "\n",
      "\n",
      "Thatâs all well and good, but itâs also only the start of what Requests can\n",
      "do.\n",
      "\n",
      "\n",
      "Passing Parameters In URLsÂ¶\n",
      "You often want to send some sort of data in the URLâs query string. If\n",
      "you were constructing the URL by hand, this data would be given as key/value\n",
      "pairs in the URL after a question mark, e.g. httpbin.org/get?key=val.\n",
      "Requests allows you to provide these arguments as a dictionary of strings,\n",
      "using the params keyword argument. As an example, if you wanted to pass\n",
      "key1=value1 and key2=value2 to httpbin.org/get, you would use the\n",
      "following code:\n",
      ">>> payload = {'key1': 'value1', 'key2': 'value2'}\n",
      ">>> r = requests.get('https://httpbin.org/get', params=payload)\n",
      "\n",
      "\n",
      "You can see that the URL has been correctly encoded by printing the URL:\n",
      ">>> print(r.url)\n",
      "https://httpbin.org/get?key2=value2&key1=value1\n",
      "\n",
      "\n",
      "Note that any dictionary key whose value is None will not be added to the\n",
      "URLâs query string.\n",
      "You can also pass a list of items as a value:\n",
      ">>> payload = {'key1': 'value1', 'key2': ['value2', 'value3']}\n",
      "\n",
      ">>> r = requests.get('https://httpbin.org/get', params=payload)\n",
      ">>> print(r.url)\n",
      "https://httpbin.org/get?key1=value1&key2=value2&key2=value3\n",
      "\n",
      "\n",
      "\n",
      "\n",
      "Response ContentÂ¶\n",
      "We can read the content of the serverâs response. Consider the GitHub timeline\n",
      "again:\n",
      ">>> import requests\n",
      "\n",
      ">>> r = requests.get('https://api.github.com/events')\n",
      ">>> r.text\n",
      "'[{\"repository\":{\"open_issues\":0,\"url\":\"https://github.com/...\n",
      "\n",
      "\n",
      "Requests will automatically decode content from the server. Most unicode\n",
      "charsets are seamlessly decoded.\n",
      "When you make a request, Requests makes educated guesses about the encoding of\n",
      "the response based on the HTTP headers. The text encoding guessed by Requests\n",
      "is used when you access r.text. You can find out what encoding Requests is\n",
      "using, and change it, using the r.encoding property:\n",
      ">>> r.encoding\n",
      "'utf-8'\n",
      ">>> r.encoding = 'ISO-8859-1'\n",
      "\n",
      "\n",
      "If you change the encoding, Requests will use the new value of r.encoding\n",
      "whenever you call r.text. You might want to do this in any situation where\n",
      "you can apply special logic to work out what the encoding of the content will\n",
      "be. For example, HTML and XML have the ability to specify their encoding in\n",
      "their body. In situations like this, you should use r.content to find the\n",
      "encoding, and then set r.encoding. This will let you use r.text with\n",
      "the correct encoding.\n",
      "Requests will also use custom encodings in the event that you need them. If\n",
      "you have created your own encoding and registered it with the codecs\n",
      "module, you can simply use the codec name as the value of r.encoding and\n",
      "Requests will handle the decoding for you.\n",
      "\n",
      "\n",
      "Binary Response ContentÂ¶\n",
      "You can also access the response body as bytes, for non-text requests:\n",
      ">>> r.content\n",
      "b'[{\"repository\":{\"open_issues\":0,\"url\":\"https://github.com/...\n",
      "\n",
      "\n",
      "The gzip and deflate transfer-encodings are automatically decoded for you.\n",
      "For example, to create an image from binary data returned by a request, you can\n",
      "use the following code:\n",
      ">>> from PIL import Image\n",
      ">>> from io import BytesIO\n",
      "\n",
      ">>> i = Image.open(BytesIO(r.content))\n",
      "\n",
      "\n",
      "\n",
      "\n",
      "JSON Response ContentÂ¶\n",
      "Thereâs also a builtin JSON decoder, in case youâre dealing with JSON data:\n",
      ">>> import requests\n",
      "\n",
      ">>> r = requests.get('https://api.github.com/events')\n",
      ">>> r.json()\n",
      "[{'repository': {'open_issues': 0, 'url': 'https://github.com/...\n",
      "\n",
      "\n",
      "In case the JSON decoding fails, r.json() raises an exception. For example, if\n",
      "the response gets a 204 (No Content), or if the response contains invalid JSON,\n",
      "attempting r.json() raises ValueError: No JSON object could be decoded.\n",
      "It should be noted that the success of the call to r.json() does not\n",
      "indicate the success of the response. Some servers may return a JSON object in a\n",
      "failed response (e.g. error details with HTTP 500). Such JSON will be decoded\n",
      "and returned. To check that a request is successful, use\n",
      "r.raise_for_status() or check r.status_code is what you expect.\n",
      "\n",
      "\n",
      "Raw Response ContentÂ¶\n",
      "In the rare case that youâd like to get the raw socket response from the\n",
      "server, you can access r.raw. If you want to do this, make sure you set\n",
      "stream=True in your initial request. Once you do, you can do this:\n",
      ">>> r = requests.get('https://api.github.com/events', stream=True)\n",
      "\n",
      ">>> r.raw\n",
      "<urllib3.response.HTTPResponse object at 0x101194810>\n",
      "\n",
      ">>> r.raw.read(10)\n",
      "'\\x1f\\x8b\\x08\\x00\\x00\\x00\\x00\\x00\\x00\\x03'\n",
      "\n",
      "\n",
      "In general, however, you should use a pattern like this to save what is being\n",
      "streamed to a file:\n",
      "with open(filename, 'wb') as fd:\n",
      "    for chunk in r.iter_content(chunk_size=128):\n",
      "        fd.write(chunk)\n",
      "\n",
      "\n",
      "Using Response.iter_content will handle a lot of what you would otherwise\n",
      "have to handle when using Response.raw directly. When streaming a\n",
      "download, the above is the preferred and recommended way to retrieve the\n",
      "content. Note that chunk_size can be freely adjusted to a number that\n",
      "may better fit your use cases.\n",
      "\n",
      "Note\n",
      "An important note about using Response.iter_content versus Response.raw.\n",
      "Response.iter_content will automatically decode the gzip and deflate\n",
      "transfer-encodings.  Response.raw is a raw stream of bytes â it does not\n",
      "transform the response content.  If you really need access to the bytes as they\n",
      "were returned, use Response.raw.\n",
      "\n",
      "\n",
      "\n",
      "Custom HeadersÂ¶\n",
      "If youâd like to add HTTP headers to a request, simply pass in a dict to the\n",
      "headers parameter.\n",
      "For example, we didnât specify our user-agent in the previous example:\n",
      ">>> url = 'https://api.github.com/some/endpoint'\n",
      ">>> headers = {'user-agent': 'my-app/0.0.1'}\n",
      "\n",
      ">>> r = requests.get(url, headers=headers)\n",
      "\n",
      "\n",
      "Note: Custom headers are given less precedence than more specific sources of information. For instance:\n",
      "\n",
      "Authorization headers set with headers= will be overridden if credentials\n",
      "are specified in .netrc, which in turn will be overridden by the  auth=\n",
      "parameter.\n",
      "Authorization headers will be removed if you get redirected off-host.\n",
      "Proxy-Authorization headers will be overridden by proxy credentials provided in the URL.\n",
      "Content-Length headers will be overridden when we can determine the length of the content.\n",
      "\n",
      "Furthermore, Requests does not change its behavior at all based on which custom headers are specified. The headers are simply passed on into the final request.\n",
      "Note: All header values must be a string, bytestring, or unicode. While permitted, itâs advised to avoid passing unicode header values.\n",
      "\n",
      "\n",
      "More complicated POST requestsÂ¶\n",
      "Typically, you want to send some form-encoded data â much like an HTML form.\n",
      "To do this, simply pass a dictionary to the data argument. Your\n",
      "dictionary of data will automatically be form-encoded when the request is made:\n",
      ">>> payload = {'key1': 'value1', 'key2': 'value2'}\n",
      "\n",
      ">>> r = requests.post(\"https://httpbin.org/post\", data=payload)\n",
      ">>> print(r.text)\n",
      "{\n",
      "  ...\n",
      "  \"form\": {\n",
      "    \"key2\": \"value2\",\n",
      "    \"key1\": \"value1\"\n",
      "  },\n",
      "  ...\n",
      "}\n",
      "\n",
      "\n",
      "The data argument can also have multiple values for each key. This can be\n",
      "done by making data either a list of tuples or a dictionary with lists\n",
      "as values. This is particularly useful when the form has multiple elements that\n",
      "use the same key:\n",
      ">>> payload_tuples = [('key1', 'value1'), ('key1', 'value2')]\n",
      ">>> r1 = requests.post('https://httpbin.org/post', data=payload_tuples)\n",
      ">>> payload_dict = {'key1': ['value1', 'value2']}\n",
      ">>> r2 = requests.post('https://httpbin.org/post', data=payload_dict)\n",
      ">>> print(r1.text)\n",
      "{\n",
      "  ...\n",
      "  \"form\": {\n",
      "    \"key1\": [\n",
      "      \"value1\",\n",
      "      \"value2\"\n",
      "    ]\n",
      "  },\n",
      "  ...\n",
      "}\n",
      ">>> r1.text == r2.text\n",
      "True\n",
      "\n",
      "\n",
      "There are times that you may want to send data that is not form-encoded. If\n",
      "you pass in a string instead of a dict, that data will be posted directly.\n",
      "For example, the GitHub API v3 accepts JSON-Encoded POST/PATCH data:\n",
      ">>> import json\n",
      "\n",
      ">>> url = 'https://api.github.com/some/endpoint'\n",
      ">>> payload = {'some': 'data'}\n",
      "\n",
      ">>> r = requests.post(url, data=json.dumps(payload))\n",
      "\n",
      "\n",
      "Instead of encoding the dict yourself, you can also pass it directly using\n",
      "the json parameter (added in version 2.4.2) and it will be encoded automatically:\n",
      ">>> url = 'https://api.github.com/some/endpoint'\n",
      ">>> payload = {'some': 'data'}\n",
      "\n",
      ">>> r = requests.post(url, json=payload)\n",
      "\n",
      "\n",
      "Note, the json parameter is ignored if either data or files is passed.\n",
      "Using the json parameter in the request will change the Content-Type in the header to application/json.\n",
      "\n",
      "\n",
      "POST a Multipart-Encoded FileÂ¶\n",
      "Requests makes it simple to upload Multipart-encoded files:\n",
      ">>> url = 'https://httpbin.org/post'\n",
      ">>> files = {'file': open('report.xls', 'rb')}\n",
      "\n",
      ">>> r = requests.post(url, files=files)\n",
      ">>> r.text\n",
      "{\n",
      "  ...\n",
      "  \"files\": {\n",
      "    \"file\": \"<censored...binary...data>\"\n",
      "  },\n",
      "  ...\n",
      "}\n",
      "\n",
      "\n",
      "You can set the filename, content_type and headers explicitly:\n",
      ">>> url = 'https://httpbin.org/post'\n",
      ">>> files = {'file': ('report.xls', open('report.xls', 'rb'), 'application/vnd.ms-excel', {'Expires': '0'})}\n",
      "\n",
      ">>> r = requests.post(url, files=files)\n",
      ">>> r.text\n",
      "{\n",
      "  ...\n",
      "  \"files\": {\n",
      "    \"file\": \"<censored...binary...data>\"\n",
      "  },\n",
      "  ...\n",
      "}\n",
      "\n",
      "\n",
      "If you want, you can send strings to be received as files:\n",
      ">>> url = 'https://httpbin.org/post'\n",
      ">>> files = {'file': ('report.csv', 'some,data,to,send\\nanother,row,to,send\\n')}\n",
      "\n",
      ">>> r = requests.post(url, files=files)\n",
      ">>> r.text\n",
      "{\n",
      "  ...\n",
      "  \"files\": {\n",
      "    \"file\": \"some,data,to,send\\\\nanother,row,to,send\\\\n\"\n",
      "  },\n",
      "  ...\n",
      "}\n",
      "\n",
      "\n",
      "In the event you are posting a very large file as a multipart/form-data\n",
      "request, you may want to stream the request. By default, requests does not\n",
      "support this, but there is a separate package which does -\n",
      "requests-toolbelt. You should read the toolbeltâs documentation for more details about how to use it.\n",
      "For sending multiple files in one request refer to the advanced\n",
      "section.\n",
      "\n",
      "Warning\n",
      "It is strongly recommended that you open files in binary\n",
      "mode. This is because Requests may attempt to provide\n",
      "the Content-Length header for you, and if it does this value\n",
      "will be set to the number of bytes in the file. Errors may occur\n",
      "if you open the file in text mode.\n",
      "\n",
      "\n",
      "\n",
      "Response Status CodesÂ¶\n",
      "We can check the response status code:\n",
      ">>> r = requests.get('https://httpbin.org/get')\n",
      ">>> r.status_code\n",
      "200\n",
      "\n",
      "\n",
      "Requests also comes with a built-in status code lookup object for easy\n",
      "reference:\n",
      ">>> r.status_code == requests.codes.ok\n",
      "True\n",
      "\n",
      "\n",
      "If we made a bad request (a 4XX client error or 5XX server error response), we\n",
      "can raise it with\n",
      "Response.raise_for_status():\n",
      ">>> bad_r = requests.get('https://httpbin.org/status/404')\n",
      ">>> bad_r.status_code\n",
      "404\n",
      "\n",
      ">>> bad_r.raise_for_status()\n",
      "Traceback (most recent call last):\n",
      "  File \"requests/models.py\", line 832, in raise_for_status\n",
      "    raise http_error\n",
      "requests.exceptions.HTTPError: 404 Client Error\n",
      "\n",
      "\n",
      "But, since our status_code for r was 200, when we call\n",
      "raise_for_status() we get:\n",
      ">>> r.raise_for_status()\n",
      "None\n",
      "\n",
      "\n",
      "All is well.\n",
      "\n",
      "\n",
      "Response HeadersÂ¶\n",
      "We can view the serverâs response headers using a Python dictionary:\n",
      ">>> r.headers\n",
      "{\n",
      "    'content-encoding': 'gzip',\n",
      "    'transfer-encoding': 'chunked',\n",
      "    'connection': 'close',\n",
      "    'server': 'nginx/1.0.4',\n",
      "    'x-runtime': '148ms',\n",
      "    'etag': '\"e1ca502697e5c9317743dc078f67693f\"',\n",
      "    'content-type': 'application/json'\n",
      "}\n",
      "\n",
      "\n",
      "The dictionary is special, though: itâs made just for HTTP headers. According to\n",
      "RFC 7230, HTTP Header names\n",
      "are case-insensitive.\n",
      "So, we can access the headers using any capitalization we want:\n",
      ">>> r.headers['Content-Type']\n",
      "'application/json'\n",
      "\n",
      ">>> r.headers.get('content-type')\n",
      "'application/json'\n",
      "\n",
      "\n",
      "It is also special in that the server could have sent the same header multiple\n",
      "times with different values, but requests combines them so they can be\n",
      "represented in the dictionary within a single mapping, as per\n",
      "RFC 7230:\n",
      "\n",
      "A recipient MAY combine multiple header fields with the same field name\n",
      "into one âfield-name: field-valueâ pair, without changing the semantics\n",
      "of the message, by appending each subsequent field value to the combined\n",
      "field value in order, separated by a comma.\n",
      "\n",
      "\n",
      "CookiesÂ¶\n",
      "If a response contains some Cookies, you can quickly access them:\n",
      ">>> url = 'http://example.com/some/cookie/setting/url'\n",
      ">>> r = requests.get(url)\n",
      "\n",
      ">>> r.cookies['example_cookie_name']\n",
      "'example_cookie_value'\n",
      "\n",
      "\n",
      "To send your own cookies to the server, you can use the cookies\n",
      "parameter:\n",
      ">>> url = 'https://httpbin.org/cookies'\n",
      ">>> cookies = dict(cookies_are='working')\n",
      "\n",
      ">>> r = requests.get(url, cookies=cookies)\n",
      ">>> r.text\n",
      "'{\"cookies\": {\"cookies_are\": \"working\"}}'\n",
      "\n",
      "\n",
      "Cookies are returned in a RequestsCookieJar,\n",
      "which acts like a dict but also offers a more complete interface,\n",
      "suitable for use over multiple domains or paths.  Cookie jars can\n",
      "also be passed in to requests:\n",
      ">>> jar = requests.cookies.RequestsCookieJar()\n",
      ">>> jar.set('tasty_cookie', 'yum', domain='httpbin.org', path='/cookies')\n",
      ">>> jar.set('gross_cookie', 'blech', domain='httpbin.org', path='/elsewhere')\n",
      ">>> url = 'https://httpbin.org/cookies'\n",
      ">>> r = requests.get(url, cookies=jar)\n",
      ">>> r.text\n",
      "'{\"cookies\": {\"tasty_cookie\": \"yum\"}}'\n",
      "\n",
      "\n",
      "\n",
      "\n",
      "Redirection and HistoryÂ¶\n",
      "By default Requests will perform location redirection for all verbs except\n",
      "HEAD.\n",
      "We can use the history property of the Response object to track redirection.\n",
      "The Response.history list contains the\n",
      "Response objects that were created in order to\n",
      "complete the request. The list is sorted from the oldest to the most recent\n",
      "response.\n",
      "For example, GitHub redirects all HTTP requests to HTTPS:\n",
      ">>> r = requests.get('http://github.com/')\n",
      "\n",
      ">>> r.url\n",
      "'https://github.com/'\n",
      "\n",
      ">>> r.status_code\n",
      "200\n",
      "\n",
      ">>> r.history\n",
      "[<Response [301]>]\n",
      "\n",
      "\n",
      "If youâre using GET, OPTIONS, POST, PUT, PATCH or DELETE, you can disable\n",
      "redirection handling with the allow_redirects parameter:\n",
      ">>> r = requests.get('http://github.com/', allow_redirects=False)\n",
      "\n",
      ">>> r.status_code\n",
      "301\n",
      "\n",
      ">>> r.history\n",
      "[]\n",
      "\n",
      "\n",
      "If youâre using HEAD, you can enable redirection as well:\n",
      ">>> r = requests.head('http://github.com/', allow_redirects=True)\n",
      "\n",
      ">>> r.url\n",
      "'https://github.com/'\n",
      "\n",
      ">>> r.history\n",
      "[<Response [301]>]\n",
      "\n",
      "\n",
      "\n",
      "\n",
      "TimeoutsÂ¶\n",
      "You can tell Requests to stop waiting for a response after a given number of\n",
      "seconds with the timeout parameter. Nearly all production code should use\n",
      "this parameter in nearly all requests. Failure to do so can cause your program\n",
      "to hang indefinitely:\n",
      ">>> requests.get('https://github.com/', timeout=0.001)\n",
      "Traceback (most recent call last):\n",
      "  File \"<stdin>\", line 1, in <module>\n",
      "requests.exceptions.Timeout: HTTPConnectionPool(host='github.com', port=80): Request timed out. (timeout=0.001)\n",
      "\n",
      "\n",
      "\n",
      "Note\n",
      "timeout is not a time limit on the entire response download;\n",
      "rather, an exception is raised if the server has not issued a\n",
      "response for timeout seconds (more precisely, if no bytes have been\n",
      "received on the underlying socket for timeout seconds). If no timeout is specified explicitly, requests do\n",
      "not time out.\n",
      "\n",
      "\n",
      "\n",
      "Errors and ExceptionsÂ¶\n",
      "In the event of a network problem (e.g. DNS failure, refused connection, etc),\n",
      "Requests will raise a ConnectionError exception.\n",
      "Response.raise_for_status() will\n",
      "raise an HTTPError if the HTTP request\n",
      "returned an unsuccessful status code.\n",
      "If a request times out, a Timeout exception is\n",
      "raised.\n",
      "If a request exceeds the configured number of maximum redirections, a\n",
      "TooManyRedirects exception is raised.\n",
      "All exceptions that Requests explicitly raises inherit from\n",
      "requests.exceptions.RequestException.\n",
      "\n",
      "Ready for more? Check out the advanced section.\n",
      "If youâre on the job market, consider taking this programming quiz. A substantial donation will be made to this project, if you find a job through this platform.\n",
      "\n",
      "\n",
      "\n",
      "\n",
      "          \n",
      "          \n",
      "        \n",
      "      \n",
      "      \n",
      "        \n",
      "  \n",
      "    \n",
      "  \n",
      "\n",
      "\n",
      "  \n",
      "\n",
      "\n",
      "\n",
      "  .algolia-autocomplete {\n",
      "    width: 100%;\n",
      "    height: 1.5em\n",
      "  }\n",
      "\n",
      "  .algolia-autocomplete a {\n",
      "    border-bottom: none !important;\n",
      "  }\n",
      "\n",
      "  #doc_search {\n",
      "    width: 100%;\n",
      "    height: 100%;\n",
      "  }\n",
      "\n",
      "\n",
      "\n",
      "\n",
      "\n",
      "  Requests is an elegant and simple HTTP library for Python, built for\n",
      "  human beings. You are currently looking at the documentation of the\n",
      "  development release.\n",
      "\n",
      "\n",
      "Sponsored by CERT Gouvernemental - GOVCERT.LU.\n",
      "\n",
      "  Stay Informed\n",
      "  Receive updates on new releases and upcoming projects.\n",
      "\n",
      "  Join Mailing List.\n",
      "\n",
      "  \n",
      "\n",
      "  \n",
      "\n",
      "\n",
      "  Translations\n",
      "\n",
      "  \n",
      "    English\n",
      "    French\n",
      "    German\n",
      "    Japanese\n",
      "    Chinese\n",
      "    Portuguese\n",
      "    Italian\n",
      "    Spanish\n",
      "  \n",
      "  Table of Contents\n",
      "  \n",
      "Quickstart\n",
      "Make a Request\n",
      "Passing Parameters In URLs\n",
      "Response Content\n",
      "Binary Response Content\n",
      "JSON Response Content\n",
      "Raw Response Content\n",
      "Custom Headers\n",
      "More complicated POST requests\n",
      "POST a Multipart-Encoded File\n",
      "Response Status Codes\n",
      "Response Headers\n",
      "Cookies\n",
      "Redirection and History\n",
      "Timeouts\n",
      "Errors and Exceptions\n",
      "\n",
      "\n",
      "\n",
      "\n",
      "Related Topics\n",
      "\n",
      "  Documentation overview\n",
      "      Previous: Installation of Requests\n",
      "      Next: Advanced Usage\n",
      "  \n",
      "\n",
      "\n",
      "\n",
      "  Quick search\n",
      "    \n",
      "    \n",
      "      \n",
      "      \n",
      "      \n",
      "      \n",
      "    \n",
      "    \n",
      "\n",
      "$('#searchbox').show(0);\n",
      "\n",
      "\n",
      "\n",
      "\n",
      "  /* Rezzy requires precise alignment. */\n",
      "  img.logo {margin-left: -20px!important;}\n",
      "\n",
      "  /* \"Quick Search\" should be capitalized. */\n",
      "  div#searchbox h3 {text-transform: capitalize;}\n",
      "\n",
      "  /* Make the document a little wider, less code is cut-off. */\n",
      "  div.document {width: 1008px;}\n",
      "\n",
      "  /* Much-improved spacing around code blocks. */\n",
      "  div.highlight pre {padding: 11px 14px;}\n",
      "\n",
      "  /* Remain Responsive! */\n",
      "  @media screen and (max-width: 1008px) {\n",
      "    div.sphinxsidebar {display: none;}\n",
      "    div.document {width: 100%!important;}\n",
      "\n",
      "    /* Have code blocks escape the document right-margin. */\n",
      "    div.highlight pre {margin-right: -30px;}\n",
      "  }\n",
      "\n",
      "\n",
      "\n",
      "\n",
      "\n",
      "\n",
      "  var _gauges = _gauges || [];\n",
      "  (function() {\n",
      "    var t   = document.createElement('script');\n",
      "    t.type  = 'text/javascript';\n",
      "    t.async = true;\n",
      "    t.id    = 'gauges-tracker';\n",
      "    t.setAttribute('data-site-id', '56ca7a57c88d9011080024dd');\n",
      "    t.setAttribute('data-track-path', 'https://track.gaug.es/track.gif');\n",
      "    t.src = 'https://d36ee2fcip1434.cloudfront.net/track.js';\n",
      "    var s = document.getElementsByTagName('script')[0];\n",
      "    s.parentNode.insertBefore(t, s);\n",
      "  })();\n",
      "\n",
      "\n",
      "\n",
      "\n",
      "\n",
      "\n",
      "\n",
      "\n",
      "\n",
      "  var easter_egg = new Konami('http://fortunes.herokuapp.com/random/raw');\n",
      "\n",
      "\n",
      "\n",
      "\n",
      "\n",
      "\n",
      "\n",
      "\n",
      "\n",
      "\n",
      "\n",
      "\n",
      "_bsa.init('custom', 'CK7D62JU', 'placement:pythonrequestsorg',\n",
      "    {\n",
      "      target: '#native-ribbon',\n",
      "      template: `\n",
      "<div class=\"native-sponsor\">Sponsored by ##company## â Learn More</div>\n",
      "  <a href=\"##link##\" class=\"native-flex\">\n",
      "    <style>\n",
      "    #native-ribbon #_custom_ {\n",
      "      background: linear-gradient(-30deg, ##backgroundColor##E5, ##backgroundColor##E5 45%, ##backgroundColor## 45%) #fff;\n",
      "    }\n",
      "\n",
      "    .native-details,\n",
      "    .native-sponsor,\n",
      "    .native-bsa {\n",
      "      color: ##textColor## !important;\n",
      "    }\n",
      "\n",
      "    .native-details:hover {\n",
      "      color: ##textColorHover## !important;\n",
      "    }\n",
      "\n",
      "    .native-cta {\n",
      "      color: ##ctaTextColor##;\n",
      "      background-color: ##ctaBackgroundColor##;\n",
      "    }\n",
      "\n",
      "    .native-cta:hover {\n",
      "      color: ##ctaTextColorHover##;\n",
      "      background-color: ##ctaBackgroundColorHover##;\n",
      "    }\n",
      "    </style>\n",
      "    <div class=\"native-main\">\n",
      "      <img class=\"native-img\" src=\"##logo##\">\n",
      "      <div class=\"native-details\">\n",
      "        <span class=\"native-company\">##title##</span>\n",
      "        <span class=\"native-desc\">##description##</span>\n",
      "      </div>\n",
      "    </div>\n",
      "    <span class=\"native-cta\">##callToAction##</span>\n",
      "  </a>\n",
      "</div>\n",
      "`\n",
      "    }\n",
      "  );\n",
      "\n",
      "        \n",
      "      \n",
      "      \n",
      "    \n",
      "    \n",
      "      ©MMXVIX. A Kenneth Reitz Project.\n",
      "      \n",
      "    \n",
      "\n",
      "    \n",
      "    \n",
      "        \n",
      "    \n",
      "    \n",
      "\n",
      "    \n",
      "  \n",
      "\n"
     ]
    }
   ],
   "source": [
    "text = soup.get_text()\n",
    "print(text)"
   ]
  },
  {
   "cell_type": "code",
   "execution_count": 46,
   "metadata": {},
   "outputs": [
    {
     "data": {
      "text/plain": [
       "['Quickstart',\n",
       " 'Requests',\n",
       " '2',\n",
       " '23',\n",
       " '0',\n",
       " 'documentation',\n",
       " 'READTHEDOCS_DATA',\n",
       " 'page']"
      ]
     },
     "execution_count": 46,
     "metadata": {},
     "output_type": "execute_result"
    }
   ],
   "source": [
    "tokens = re.findall('\\w+', text)\n",
    "tokens[:8]"
   ]
  },
  {
   "cell_type": "code",
   "execution_count": 47,
   "metadata": {},
   "outputs": [],
   "source": [
    "words = []\n",
    "for word in tokens:\n",
    "    words.append(word.lower())"
   ]
  },
  {
   "cell_type": "code",
   "execution_count": 53,
   "metadata": {},
   "outputs": [
    {
     "data": {
      "text/plain": [
       "['quickstart',\n",
       " 'requests',\n",
       " '2',\n",
       " '23',\n",
       " '0',\n",
       " 'documentation',\n",
       " 'readthedocs_data',\n",
       " 'page']"
      ]
     },
     "execution_count": 53,
     "metadata": {},
     "output_type": "execute_result"
    }
   ],
   "source": [
    "words[:8]"
   ]
  },
  {
   "cell_type": "code",
   "execution_count": 54,
   "metadata": {},
   "outputs": [
    {
     "name": "stderr",
     "output_type": "stream",
     "text": [
      "[nltk_data] Downloading package stopwords to /Users/galka/nltk_data...\n",
      "[nltk_data]   Unzipping corpora/stopwords.zip.\n"
     ]
    },
    {
     "data": {
      "text/plain": [
       "True"
      ]
     },
     "execution_count": 54,
     "metadata": {},
     "output_type": "execute_result"
    }
   ],
   "source": [
    "import nltk\n",
    "nltk.download('stopwords')"
   ]
  },
  {
   "cell_type": "code",
   "execution_count": 55,
   "metadata": {},
   "outputs": [
    {
     "data": {
      "text/plain": [
       "['i', 'me', 'my', 'myself', 'we', 'our', 'ours', 'ourselves']"
      ]
     },
     "execution_count": 55,
     "metadata": {},
     "output_type": "execute_result"
    }
   ],
   "source": [
    "sw = nltk.corpus.stopwords.words('english')\n",
    "sw[:8]"
   ]
  },
  {
   "cell_type": "code",
   "execution_count": 56,
   "metadata": {},
   "outputs": [
    {
     "data": {
      "text/plain": [
       "['quickstart', 'requests', '2', '23', '0']"
      ]
     },
     "execution_count": 56,
     "metadata": {},
     "output_type": "execute_result"
    }
   ],
   "source": [
    "words_ns = []\n",
    "\n",
    "# Add to words_ns all words that are in words but not in sw\n",
    "for word in words:\n",
    "    if word not in sw:\n",
    "        words_ns.append(word)\n",
    "\n",
    "# Print several list items as sanity check\n",
    "words_ns[:5]"
   ]
  },
  {
   "cell_type": "code",
   "execution_count": 74,
   "metadata": {},
   "outputs": [
    {
     "ename": "NameError",
     "evalue": "name 'request' is not defined",
     "output_type": "error",
     "traceback": [
      "\u001b[0;31m---------------------------------------------------------------------------\u001b[0m",
      "\u001b[0;31mNameError\u001b[0m                                 Traceback (most recent call last)",
      "\u001b[0;32m<ipython-input-74-a6b077dbd795>\u001b[0m in \u001b[0;36m<module>\u001b[0;34m\u001b[0m\n\u001b[0;32m----> 1\u001b[0;31m \u001b[0;32mwith\u001b[0m \u001b[0mrequest\u001b[0m\u001b[0;34m.\u001b[0m\u001b[0mget\u001b[0m\u001b[0;34m(\u001b[0m\u001b[0;34m\"https://www.foxnews.com/category/health/infectious-disease/coronavirus\"\u001b[0m\u001b[0;34m)\u001b[0m \u001b[0;32mas\u001b[0m \u001b[0murl\u001b[0m\u001b[0;34m:\u001b[0m\u001b[0;34m\u001b[0m\u001b[0;34m\u001b[0m\u001b[0m\n\u001b[0m\u001b[1;32m      2\u001b[0m     \u001b[0ms\u001b[0m \u001b[0;34m=\u001b[0m \u001b[0murl\u001b[0m\u001b[0;34m.\u001b[0m\u001b[0mtext\u001b[0m\u001b[0;34m(\u001b[0m\u001b[0;34m)\u001b[0m\u001b[0;34m\u001b[0m\u001b[0;34m\u001b[0m\u001b[0m\n\u001b[1;32m      3\u001b[0m     \u001b[0;31m# I'm guessing this would output the html source code ?\u001b[0m\u001b[0;34m\u001b[0m\u001b[0;34m\u001b[0m\u001b[0;34m\u001b[0m\u001b[0m\n\u001b[1;32m      4\u001b[0m     \u001b[0mprint\u001b[0m\u001b[0;34m(\u001b[0m\u001b[0ms\u001b[0m\u001b[0;34m)\u001b[0m\u001b[0;34m\u001b[0m\u001b[0;34m\u001b[0m\u001b[0m\n",
      "\u001b[0;31mNameError\u001b[0m: name 'request' is not defined"
     ]
    }
   ],
   "source": [
    "with request.get(\"https://www.foxnews.com/category/health/infectious-disease/coronavirus\") as url:\n",
    "    s = url.text()\n",
    "    # I'm guessing this would output the html source code ?\n",
    "    print(s)"
   ]
  },
  {
   "cell_type": "code",
   "execution_count": 71,
   "metadata": {},
   "outputs": [
    {
     "ename": "ModuleNotFoundError",
     "evalue": "No module named 'newspaper'",
     "output_type": "error",
     "traceback": [
      "\u001b[0;31m---------------------------------------------------------------------------\u001b[0m",
      "\u001b[0;31mModuleNotFoundError\u001b[0m                       Traceback (most recent call last)",
      "\u001b[0;32m<ipython-input-71-113f37bfee05>\u001b[0m in \u001b[0;36m<module>\u001b[0;34m\u001b[0m\n\u001b[0;32m----> 1\u001b[0;31m \u001b[0;32mimport\u001b[0m \u001b[0mnewspaper\u001b[0m\u001b[0;34m\u001b[0m\u001b[0;34m\u001b[0m\u001b[0m\n\u001b[0m\u001b[1;32m      2\u001b[0m \u001b[0mcnn_paper\u001b[0m \u001b[0;34m=\u001b[0m \u001b[0mnewspaper\u001b[0m\u001b[0;34m.\u001b[0m\u001b[0mbuild\u001b[0m\u001b[0;34m(\u001b[0m\u001b[0;34m'http://cnn.com'\u001b[0m\u001b[0;34m)\u001b[0m\u001b[0;34m\u001b[0m\u001b[0;34m\u001b[0m\u001b[0m\n",
      "\u001b[0;31mModuleNotFoundError\u001b[0m: No module named 'newspaper'"
     ]
    }
   ],
   "source": [
    "import newspaper\n",
    "cnn_paper = newspaper.build('http://cnn.com')"
   ]
  },
  {
   "cell_type": "code",
   "execution_count": 72,
   "metadata": {},
   "outputs": [
    {
     "ename": "NameError",
     "evalue": "name 'newspaper' is not defined",
     "output_type": "error",
     "traceback": [
      "\u001b[0;31m---------------------------------------------------------------------------\u001b[0m",
      "\u001b[0;31mNameError\u001b[0m                                 Traceback (most recent call last)",
      "\u001b[0;32m<ipython-input-72-31147da1e21a>\u001b[0m in \u001b[0;36m<module>\u001b[0;34m\u001b[0m\n\u001b[0;32m----> 1\u001b[0;31m \u001b[0mpaper\u001b[0m \u001b[0;34m=\u001b[0m \u001b[0mnewspaper\u001b[0m\u001b[0;34m.\u001b[0m\u001b[0mbuild\u001b[0m\u001b[0;34m(\u001b[0m\u001b[0;34m\"https://www.foxnews.com/category/health/infectious-disease/coronavirus\"\u001b[0m\u001b[0;34m)\u001b[0m\u001b[0;34m\u001b[0m\u001b[0;34m\u001b[0m\u001b[0m\n\u001b[0m",
      "\u001b[0;31mNameError\u001b[0m: name 'newspaper' is not defined"
     ]
    }
   ],
   "source": [
    "paper = newspaper.build(\"https://www.foxnews.com/category/health/infectious-disease/coronavirus\")"
   ]
  },
  {
   "cell_type": "code",
   "execution_count": null,
   "metadata": {},
   "outputs": [],
   "source": [
    "articles = []\n",
    "for article in paper.articles:\n",
    "  articles = article.url\n",
    "  print(articles)"
   ]
  }
 ],
 "metadata": {
  "kernelspec": {
   "display_name": "Python 3",
   "language": "python",
   "name": "python3"
  },
  "language_info": {
   "codemirror_mode": {
    "name": "ipython",
    "version": 3
   },
   "file_extension": ".py",
   "mimetype": "text/x-python",
   "name": "python",
   "nbconvert_exporter": "python",
   "pygments_lexer": "ipython3",
   "version": "3.7.3"
  }
 },
 "nbformat": 4,
 "nbformat_minor": 2
}
